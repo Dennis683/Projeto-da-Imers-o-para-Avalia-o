{
  "nbformat": 4,
  "nbformat_minor": 0,
  "metadata": {
    "colab": {
      "provenance": [],
      "authorship_tag": "ABX9TyNU8Nbi8nb3TrqotTLGMYKX",
      "include_colab_link": true
    },
    "kernelspec": {
      "name": "python3",
      "display_name": "Python 3"
    },
    "language_info": {
      "name": "python"
    }
  },
  "cells": [
    {
      "cell_type": "markdown",
      "metadata": {
        "id": "view-in-github",
        "colab_type": "text"
      },
      "source": [
        "<a href=\"https://colab.research.google.com/github/Dennis683/Projeto_Imersao_Avaliacao/blob/main/Projeto_Imers%C3%A3o.ipynb\" target=\"_parent\"><img src=\"https://colab.research.google.com/assets/colab-badge.svg\" alt=\"Open In Colab\"/></a>"
      ]
    },
    {
      "cell_type": "code",
      "source": [
        "import numpy as np\n",
        "import pandas as pd\n",
        "import google.generativeai as genai\n",
        "\n",
        "from google.colab import userdata\n",
        "api_key = userdata.get('SECRET_KEY')\n",
        "\n",
        "\n",
        "genai.configure(api_key=api_key)\n"
      ],
      "metadata": {
        "id": "x4-ymJdrOHmN"
      },
      "execution_count": 60,
      "outputs": []
    },
    {
      "cell_type": "code",
      "source": [
        "\n",
        "# Definindo documentos educacionais\n",
        "MATERIAIS_EDUCACIONAIS = [\n",
        "    {\n",
        "        \"Título\": \"Introdução à Programação em Python\",\n",
        "        \"Conteúdo\": \"Um guia abrangente para aprender programação em Python do zero.\"\n",
        "    },\n",
        "    {\n",
        "        \"Título\": \"Fundamentos de Álgebra Linear\",\n",
        "        \"Conteúdo\": \"Um curso introdutório que aborda conceitos básicos de álgebra linear.\"\n",
        "    },\n",
        "    {\n",
        "        \"Título\": \"História Mundial: Das Civilizações Antigas à Era Moderna\",\n",
        "        \"Conteúdo\": \"Uma jornada pela história mundial, explorando civilizações antigas até a era moderna.\"\n",
        "    },\n",
        "    {\n",
        "        \"Título\": \"Introdução à Estatística\",\n",
        "        \"Conteúdo\": \"Um curso introdutório que cobre os princípios básicos da estatística.\"\n",
        "    },\n",
        "    {\n",
        "        \"Título\": \"Astronomia Básica\",\n",
        "        \"Conteúdo\": \"Um curso abrangente sobre conceitos básicos de astronomia e o universo.\"\n",
        "    },\n",
        "    {\n",
        "        \"Título\": \"Filosofia: Do Pensamento Antigo à Filosofia Contemporânea\",\n",
        "        \"Conteúdo\": \"Uma exploração da evolução do pensamento filosófico ao longo da história.\"\n",
        "    },\n",
        "    {\n",
        "        \"Título\": \"Introdução à Ciência de Dados\",\n",
        "        \"Conteúdo\": \"Um curso introdutório que cobre conceitos fundamentais de ciência de dados e análise de dados.\"\n",
        "    },\n",
        "    {\n",
        "        \"Título\": \"Escrita Criativa\",\n",
        "        \"Conteúdo\": \"Um guia prático para desenvolver habilidades de escrita criativa e contar histórias cativantes.\"\n",
        "    },\n",
        "    {\n",
        "        \"Título\": \"Química Orgânica\",\n",
        "        \"Conteúdo\": \"Um curso avançado que explora os princípios e aplicações da química orgânica.\"\n",
        "    },\n",
        "    {\n",
        "        \"Título\": \"Economia: Teoria e Aplicações\",\n",
        "        \"Conteúdo\": \"Uma introdução aos princípios econômicos fundamentais e suas aplicações no mundo real.\"\n",
        "    },\n",
        "    {\n",
        "        \"Título\": \"Física Moderna\",\n",
        "        \"Conteúdo\": \"Um estudo avançado dos princípios da física moderna, incluindo teoria quântica e relatividade.\"\n",
        "    },\n",
        "    {\n",
        "        \"Título\": \"Biologia Celular e Molecular\",\n",
        "        \"Conteúdo\": \"Um curso avançado que explora a estrutura e função das células e moléculas biológicas.\"\n",
        "    },\n",
        "]"
      ],
      "metadata": {
        "id": "TWIZBpanOdk1"
      },
      "execution_count": 61,
      "outputs": []
    },
    {
      "cell_type": "code",
      "source": [
        "# Criando DataFrame dos documentos educacionais\n",
        "df_educacional = pd.DataFrame(MATERIAIS_EDUCACIONAIS)\n",
        "\n",
        "# Definindo função para calcular embeddings de conteúdo educacional\n",
        "def incorporar_conteudo_educacional(titulo, conteudo):\n",
        "    return genai.embed_content(model=\"models/embedding-001\",\n",
        "                               content=conteudo,\n",
        "                               title=titulo,\n",
        "                               task_type=\"RETRIEVAL_DOCUMENT\")[\"embedding\"]"
      ],
      "metadata": {
        "id": "_i4iOoWtOlX7"
      },
      "execution_count": 62,
      "outputs": []
    },
    {
      "cell_type": "code",
      "source": [
        "# Adicionando coluna de embeddings ao DataFrame\n",
        "df_educacional[\"Embeddings\"] = df_educacional.apply(lambda row: incorporar_conteudo_educacional(row[\"Título\"], row[\"Conteúdo\"]), axis=1)"
      ],
      "metadata": {
        "id": "kxTU7qYYOwD7"
      },
      "execution_count": 63,
      "outputs": []
    },
    {
      "cell_type": "code",
      "source": [
        "\n",
        "\n",
        "\n",
        "# Configurações para geração de texto\n",
        "configuracao_geracao = {\n",
        "    \"temperatura\": 0,\n",
        "    \"quantidade_candidatos\": 1\n",
        "}\n",
        "\n",
        "# Definindo função para recomendação de conteúdo educacional personalizado\n",
        "def recomendar_conteudo_educacional_personalizado(consulta):\n",
        "    embedding_consulta = genai.embed_content(model=\"models/embedding-001\",\n",
        "                                          content=consulta,\n",
        "                                          task_type=\"RETRIEVAL_QUERY\")[\"embedding\"]\n",
        "\n",
        "    produtos_escalar = np.dot(np.stack(df_educacional[\"Embeddings\"]), embedding_consulta)\n",
        "\n",
        "    indice = np.argmax(produtos_escalar)\n",
        "    return df_educacional.iloc[indice][\"Conteúdo\"]\n",
        "\n",
        "# Exemplo de consulta e recomendação de conteúdo educacional\n",
        "consulta = \"Como aprender python?\"\n",
        "conteudo_recomendado = recomendar_conteudo_educacional_personalizado(consulta)\n",
        "print(\"Conteúdo Educacional Recomendado:\")\n",
        "print(conteudo_recomendado)"
      ],
      "metadata": {
        "colab": {
          "base_uri": "https://localhost:8080/",
          "height": 52
        },
        "id": "DnoTdxaoOFW2",
        "outputId": "82d4b931-5344-4b0a-b515-18d4e9e2d6f4"
      },
      "execution_count": 65,
      "outputs": [
        {
          "output_type": "stream",
          "name": "stdout",
          "text": [
            "Conteúdo Educacional Recomendado:\n",
            "Um guia abrangente para aprender programação em Python do zero.\n"
          ]
        }
      ]
    }
  ]
}